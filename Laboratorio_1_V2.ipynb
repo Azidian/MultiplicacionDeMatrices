{
 "cells": [
  {
   "cell_type": "markdown",
   "metadata": {
    "id": "yJTXJoSyfUoW"
   },
   "source": [
    "\n",
    "#**Laboratorio #1 (6%)**\n",
    "\n",
    "**Instrucciones:** El presente trabajo consta de 6 problemas cada uno con un valor determinado. Para la obtención total de los puntos, el estudiante debe mostrar el  procedimiento de sus respuestas.   \n",
    "\n",
    "**Fecha de entrega:** El laboratorio debe ser entregado a más tardar el día **domingo 17 de marzo** a través del buzón habilitado en la plataforma Interactiva.\n",
    "\n",
    "\n",
    "**Formato de entrega:** Para la entrega de este trabajo, descargue el archivo en **formato PDF** (esto lo consigue con la combinación de teclas **ctrl + p** y guardando el archivo en el formato requerido) y enviarlo a través de Interactiva.\n",
    "\n"
   ]
  },
  {
   "cell_type": "markdown",
   "metadata": {
    "id": "8RyiyN2m9zcB"
   },
   "source": [
    "### **Ejercicio #1: (0.8)**\n",
    "Dados los siguientes vectores\n",
    "\n",
    "\\begin{equation*}\n",
    " \\vec{u} = (4, -3, 6),\n",
    " \\hspace{1cm}\n",
    " \\vec{v} = (19, 0, 1),\n",
    "\\hspace{1cm}\n",
    " \\vec{w} = (250, 6, -27),\n",
    " \\hspace{1cm}\n",
    " \\vec{z} = (7, -2, 158),\n",
    "\\end{equation*}\n",
    "\n",
    "realizar las operaciones indicadas:\n",
    "\n",
    "a). **(0.2)** $ \\vec{u}\\cdot \\vec{z} + \\vec{w}\\cdot (3\\vec{v}).$\n",
    "\n",
    "b). **(0.2)** $ (\\vec{u} + \\vec{z}- \\vec{v}) \\cdot (\\vec{z}-3\\vec{w} + \\vec{v}).$\n",
    "\n",
    "c). **(0.2)** $\\| \\vec{z}- \\vec{w}\\|- \\|\\vec{w} \\times \\vec{u}\\|.$\n",
    "\n",
    "d). **(0.2)** $\\|\\vec{u}\\|(\\vec{v} + \\vec{z}) + \\| 2\\vec{z}- 3\\vec{w}\\|\\vec{z}.$\n"
   ]
  },
  {
   "cell_type": "code",
   "execution_count": null,
   "metadata": {
    "id": "TkJQnEDwAzup"
   },
   "outputs": [],
   "source": [
    "# Solución Ejercicio 1. (NO OLVIDE IMPRIMIR SUS RESPUESTAS)\n",
    "\n",
    "# (a):\n",
    "\n",
    "\n",
    "# (b):\n",
    "\n",
    "\n",
    "# (c):\n",
    "\n",
    "\n",
    "# (d):\n"
   ]
  },
  {
   "cell_type": "markdown",
   "metadata": {
    "id": "sbXN71p9DHgp"
   },
   "source": [
    "### **Ejercicio #2: (0.7)**\n",
    " Considere los siguientes vectores: $\\vec{u} = (2, 5)$ y $\\vec{v} = (6, -3)$.\n",
    "\n",
    "\n",
    "a). **(0.3)** Hallar dos vectores $\\vec{p}$ y $\\vec{h}$ tales que $\\vec{v} = \\vec{p} + \\vec{h}$ con $\\vec{p}$ paralelo a $\\vec{u}$ y $\\vec{h}$ ortogonal a $\\vec{u}$.\n",
    "\n",
    "b). **(0.2)** Grafique los vectores $\\vec{p}$, $\\vec{h}$ y $\\vec{v}$ en un gráfico donde se observe geométricamente la relación  $\\vec{v} = \\vec{p} + \\vec{h}$.\n",
    "\n",
    "c). **(0.2)** Calcule el vector $\\vec{z} = A\\vec{u}$ donde\n",
    "$\n",
    "\\begin{equation*}\n",
    " A =\n",
    "\\begin{pmatrix}\n",
    "0 & -1\\\\\n",
    "1 & 0\n",
    "\\end{pmatrix}.\n",
    "\\end{equation*}$\n",
    "Grafique en una misma figura los vectores $\\vec{u}$ y $\\vec{z}$. Explique lo observado en la figura."
   ]
  },
  {
   "cell_type": "code",
   "execution_count": null,
   "metadata": {
    "id": "-PjhQaBJDoGo"
   },
   "outputs": [],
   "source": [
    "# Solución Ejercicio 2. (NO OLVIDE IMPRIMIR SUS RESPUESTAS)\n",
    "\n",
    "# (a):\n"
   ]
  },
  {
   "cell_type": "code",
   "execution_count": 1,
   "metadata": {
    "colab": {
     "base_uri": "https://localhost:8080/",
     "height": 430
    },
    "executionInfo": {
     "elapsed": 669,
     "status": "ok",
     "timestamp": 1710047779442,
     "user": {
      "displayName": "José Manuel Escorcia Tafur",
      "userId": "05320643366296185999"
     },
     "user_tz": 180
    },
    "id": "lGanUc34VHD-",
    "outputId": "e78cc157-27e4-475d-d708-cede03d0ceee"
   },
   "outputs": [
    {
     "data": {
      "image/png": "[encoded data removed]",
      "text/plain": [
       "<Figure size 640x480 with 1 Axes>"
      ]
     },
     "metadata": {},
     "output_type": "display_data"
    }
   ],
   "source": [
    "#------------------------------------------------NOTA------------------------------------------------------------#\n",
    "# Para graficar vectores en Python podemos usar matplotlib.pyplot como se ilustrará a continuación.Modifique     #\n",
    "# adecuadamente el código suministrado para graficar los vectores v,h,p. Use diferentes colores para cada vector #\n",
    "# Posibles colores: Rojo (r), azul (b) y negro (k).                                                              #\n",
    "#----------------------------------------------------------------------------------------------------------------#\n",
    "\n",
    "# (b):\n",
    "\n",
    "# Para este ejemplo graficaremos los vectores U = (1,2), V = (2,0)\n",
    "\n",
    "import numpy as np\n",
    "\n",
    "U = np.array([1, 2])\n",
    "\n",
    "V = np.array([2, 0])\n",
    "\n",
    "import matplotlib.pyplot as plt\n",
    "\n",
    "fig, ax = plt.subplots()\n",
    "\n",
    "# Adiciono los vectores U, V a la gráfica y establezco sus colores\n",
    "\n",
    "ax.quiver(0, 0, U[0], U[1], angles='xy', scale_units='xy', scale=1, color='b')\n",
    "ax.quiver(0, 0, V[0], V[1], angles='xy', scale_units='xy', scale=1, color='r')\n",
    "\n",
    "# Defino los limites de cada eje de la gráfica\n",
    "\n",
    "ax.set_xlim([-0.1, 2.3])   # Eje X\n",
    "ax.set_ylim([-0.3, 2.3])   # Eje Y\n",
    "\n",
    "# Defino cuadrículas para la gráfica\n",
    "plt.grid()\n",
    "plt.legend(['vector U','vector V'])\n",
    "plt.show()"
   ]
  },
  {
   "cell_type": "code",
   "execution_count": null,
   "metadata": {
    "id": "It_sRmxGrX9Q"
   },
   "outputs": [],
   "source": [
    "# (c):\n"
   ]
  },
  {
   "cell_type": "markdown",
   "metadata": {
    "id": "S8_KgC0JzPpj"
   },
   "source": [
    "\n",
    "### **Ejercicio #3: (0.5)**\n",
    "Considere las siguientes matrices\n",
    "\n",
    "\n",
    "\n",
    "\\begin{equation*}\n",
    " A =\n",
    "\\begin{pmatrix}\n",
    "7 & 2 & 4 & -5 & 2\\\\\n",
    "-4 & -4 & 3 & 6 & 0\\\\\n",
    "5 & 6 & 97 & 8 & 4 \\\\\n",
    "13 & 0 & 30 & 3 & 3\n",
    "\\end{pmatrix},\n",
    " \\hspace{1cm}\n",
    "B =\n",
    "\\begin{pmatrix}\n",
    "-2 & 5 & 0 & -15 & -1\\\\\n",
    "7 & 6 & 8 & -20 & 0\\\\\n",
    "3 & 0 & 0 & 0 & 10\\\\\n",
    "2 & -5 & -2 & 10 & 9\n",
    "\\end{pmatrix},\n",
    "\\hspace{1cm}\n",
    "C =\n",
    "\\begin{pmatrix}\n",
    "5 & -8 & 0 & -20 & 1\\\\\n",
    "-2 & -4 & -3 & 5 & 2\\\\\n",
    "-5 & 0 & -4 & 50 & 24\\\\\n",
    "0 & 90 & -5 & -3 & 4\n",
    "\\end{pmatrix}.\n",
    "\\end{equation*}\n"
   ]
  },
  {
   "cell_type": "markdown",
   "metadata": {
    "id": "RtvX_tJ-Shji"
   },
   "source": [
    " Determinar la matriz $X$ que satisface la ecuación dada. Tener presente que $0$ representa una matriz nula.\n",
    "\n",
    " a). **(0.25)** $ 3X - B = 2A - C.$\n",
    "\n",
    "b). **(0.25)** $ 6A + 4X = B + 2C + 6X.$\n"
   ]
  },
  {
   "cell_type": "code",
   "execution_count": null,
   "metadata": {
    "id": "tLMBJnxIfdgs"
   },
   "outputs": [],
   "source": [
    "# Solución Ejercicio 3. (NO OLVIDE IMPRIMIR SUS RESPUESTAS)\n",
    "\n",
    "\n",
    "# (a):\n",
    "\n",
    "\n",
    "# (b):\n"
   ]
  },
  {
   "cell_type": "markdown",
   "metadata": {
    "id": "NIHkg4fCYC8F"
   },
   "source": [
    "### **Ejercicio #4: (1.0)**\n",
    "Se ha observado que la vida media, en minutos, de una bacteria varía en función de la temperatura (en grados) del medio en el que vive según la siguiente tabla:\n",
    "\n",
    "\\\n",
    "\n",
    "\\begin{array}{|c|c|} \\hline\n",
    " \\mbox{Temperatura} \\ (t)  & 6 & 9  & 12 & 15 \\\\ \\hline\n",
    "\\mbox{Vida media} \\ (y) & 134 & 160.3 & 181.1 & 210 \\\\ \\hline\n",
    "\\end{array}\n"
   ]
  },
  {
   "cell_type": "markdown",
   "metadata": {
    "id": "VL2xyPEvhFa6"
   },
   "source": [
    "a). **(0.7)** **(Interpolación cúbica)** Asumamos que la relación existente entre la temperatura y la vida media es cúbica, es decir,\n",
    "$$   y = at^3 + bt^2 + ct + d,                $$\n",
    "donde $t = ``\\mbox{temperatura}\" $, $y = ``\\mbox{vida media}\"$ y $a, \\ b, \\ c, \\ d$ constantes. Plantee el sistema de ecuaciones lineales y resuélvalo para determinar los coeficientes $a, \\ b, \\ c, \\ d $."
   ]
  },
  {
   "cell_type": "code",
   "execution_count": null,
   "metadata": {
    "id": "mI0rBpuohZog"
   },
   "outputs": [],
   "source": [
    "# Solución Ejercicio 4. (NO OLVIDE IMPRIMIR SUS RESPUESTAS)\n",
    "\n",
    "# (a):"
   ]
  },
  {
   "cell_type": "markdown",
   "metadata": {
    "id": "PcRBe0XWhfjC"
   },
   "source": [
    "b). **(0.3)** ¿Cuál sería la vida media de la bacteria a una temperatura de 16 grados?\n"
   ]
  },
  {
   "cell_type": "code",
   "execution_count": null,
   "metadata": {
    "id": "DHe_R20Xi3RK"
   },
   "outputs": [],
   "source": [
    "# (b):\n"
   ]
  },
  {
   "cell_type": "markdown",
   "metadata": {
    "id": "vIhunpOlzw4B"
   },
   "source": [
    "### **Ejercicio #5: (1.0)**\n",
    "Una tienda posee tres tipos de productos: $A, B$ y $C$. El precio medio de los tres productos es de $0.90$ €. Un cliente compra $30$ unidades de $A,$ $20$ de $B$ y $10$ de $C,$ y paga por ello $56$ €. Otro compra $20$ unidades de $A$ y $25$ de $C$ y paga $31$ €. Calcula el precio de una unidad $A,$ otra de $B$ y otra de $C.$  \n",
    "\n",
    "\n",
    "a). **(0.8)** Establezca un sistema de ecuaciones y resuélvalo para econtrar el precio de una unidad de cada producto.\n",
    "\n",
    "b). **(0.1)** ¿Qué producto tiene el menor precio?\n",
    "\n",
    "c). **(0.1)** ¿Qué producto tiene el mayor precio?"
   ]
  },
  {
   "cell_type": "code",
   "execution_count": null,
   "metadata": {
    "id": "KMoazUCn4oHu"
   },
   "outputs": [],
   "source": [
    "# Solución Ejercicio 5. (NO OLVIDE IMPRIMIR SUS RESPUESTAS)\n",
    "\n",
    "# (a):\n"
   ]
  },
  {
   "cell_type": "code",
   "execution_count": null,
   "metadata": {
    "id": "r8e9HPiuEhoj"
   },
   "outputs": [],
   "source": [
    "# (b):\n",
    "\n",
    "# (c):"
   ]
  },
  {
   "cell_type": "markdown",
   "metadata": {
    "id": "390le0mrDijn"
   },
   "source": [
    "### **Ejercicio #6: (1.0)**\n",
    "Andrea ha decidido enviarle un mensaje codificado a Camilo a través del **método Hill**. El mensaje codificado es:\n",
    "\n",
    "-8, 4, -9, -1, 19, 13, 11, 23, 6, 13, 5, 27, 140, 68, 141, 75, 85, 155, 83, -1, 84, 125, 97, 69, 124, 46, 139, 51, 117,  155, 83, -1, 110,  113, 115, 87, -108,  -40,  -92,  -18,  -96, -136,  -54, 34, -76, -94, -92, -58, 102,  58,  103,   43,   45,   99,   57, -3, 44, 69, 63, 37.\n",
    "\n",
    "Para el proceso de codificacion, Andrea tuvo presente la siguiente información:\n",
    "\n",
    "1. Llave de codificación: 0, 0, 1, -1, 0, 0, 4, -1, 1, 2, -2, 4, 1, 1, 2, 2, -4, 0, 0, -2, 0, 2, -1, 1, 2.\n",
    "2. Dimensión de la matriz de codificación $5 \\times 5$.\n",
    "\n",
    "a). **(0.2)** Cree e imprima la matriz de codificación $A$, y la matriz codificada $C$.\n",
    "\n",
    "b). **(0.8)** Cree e imprima la matriz plana $B$ (matriz que contiene el mensaje que se desea codificar). ¿Cuál es el mensaje que le envío Andrea a Camilo?\n",
    "\n",
    "\n",
    "**NOTA:** Remitirse a la **Guía # 3** en la cual se explica el Método Hill.\n",
    "\n",
    "\n",
    "\n",
    "\n",
    "\n",
    "\n",
    "\n",
    "\n",
    "\n",
    "\n",
    "\n",
    "\n",
    "\n",
    "\n",
    "\n",
    "\n"
   ]
  },
  {
   "cell_type": "markdown",
   "metadata": {},
   "source": [
    "import numpy as np\n",
    "\n",
    "codigo_letras = {\n",
    "    1: 'A',\n",
    "    2: 'B',\n",
    "    3: 'C',\n",
    "    4: 'D',\n",
    "    5: 'E',\n",
    "    6: 'F',\n",
    "    7: 'G',\n",
    "    8: 'H',\n",
    "    9: 'I',\n",
    "    10: 'J',\n",
    "    11: 'K',\n",
    "    12: 'L',\n",
    "    13: 'M',\n",
    "    14: 'N',\n",
    "    15: 'Ñ',\n",
    "    16: 'O',\n",
    "    17: 'P',\n",
    "    18: 'Q',\n",
    "    19: 'R',\n",
    "    20: 'S',\n",
    "    21: 'T',\n",
    "    22: 'U',\n",
    "    23: 'V',\n",
    "    24: 'W',\n",
    "    25: 'X',\n",
    "    26: 'Y',\n",
    "    27: 'Z',\n",
    "    28: ' ',\n",
    "    0: ' '\n",
    "\n",
    "}\n",
    "\n",
    "# Mensaje codificado\n",
    "mensaje_codificado = [\n",
    "  -8, 4, -9, -1, 19, 13, 11, 23, 6, 13, 5, 27, 140, 68, 141, 75, 85, 155, 83, -1, 84, 125, 97, 69, 124, 46, 139, 51, 117,  155, 83, -1, 110,  113, 115, 87, -108,  -40,  -92,  -18,  -96, -136,  -54, 34, -76, -94, -92, -58, 102,  58,  103,   43,   45,   99,   57, -3, 44, 69, 63, 37\n",
    "]\n",
    "\n",
    "# a) Crear la matriz de codificación A, y la matriz codificada C.\n",
    "llave_codificacion = [ 0, 0, 1, -1, 0, 0, 4, -1, 1, 2, -2, 4, 1, 1, 2, 2, -4, 0, 0, -2, 0, 2, -1, 1, 2]\n",
    "A = np.array(llave_codificacion).reshape(5, 5)\n",
    "print(\"Matriz de codificación A:\")\n",
    "print(A)\n",
    "\n",
    "# Calculamos la inversa de A \n",
    "det_A = np.linalg.det(A)\n",
    "print(f\"\\nDeterminante de A: {det_A}\")\n",
    "\n",
    "if det_A != 0:\n",
    "    A_inv = np.linalg.inv(A)\n",
    "    print(\"\\nMatriz inversa de A:\")\n",
    "    print(A_inv)\n",
    "else:\n",
    "    print(\"\\nLa matriz A no es invertible, no se puede decodificar el mensaje.\")\n",
    "\n",
    "# Organizar el mensaje codificado en una matriz C\n",
    "# Determinamos cuántas columnas necesitamos (cada columna tiene 5 filas)\n",
    "n_columnas = (len(mensaje_codificado)) // 5  # Redondeamos hacia arriba\n",
    "print(f\"\\nNúmero de columnas necesarias: {n_columnas}\")\n",
    "\n",
    "C = np.array(mensaje_codificado).reshape(5, n_columnas)  # Reshape para que cada columna tenga 5 filas\n",
    "print(\"\\nMatriz C:\")\n",
    "print(C)\n",
    "\n",
    "B = A_inv @ C\n",
    "\n",
    "print(\"\\nMatriz codificada B:\")\n",
    "\n",
    "print (B)\n",
    "\n",
    "# Convertir matriz B a una sola línea\n",
    "B_aplanada = B.flatten()\n",
    "print(\"\\nMatriz B aplanada (en una sola línea):\")\n",
    "print(B_aplanada)\n",
    "\n",
    "# Redondear valores para convertir a números enteros\n",
    "B_redondeada = np.round(B_aplanada).astype(int)\n",
    "print(\"\\nValores redondeados a enteros:\")\n",
    "print(B_redondeada)\n",
    "\n",
    "# Convertir a letras según el código\n",
    "mensaje_decodificado = \"\"\n",
    "for num in B_redondeada:\n",
    "    # Asegurarse de que el número esté en el rango del diccionario\n",
    "    if num in codigo_letras:\n",
    "        mensaje_decodificado += codigo_letras[num]\n",
    "    else:\n",
    "        mensaje_decodificado += f\"[{num}]\"  # Para valores fuera del rango\n",
    "\n",
    "print(\"\\nMensaje decodificado:\")\n",
    "print(mensaje_decodificado)"
   ]
  },
  {
   "cell_type": "code",
   "execution_count": null,
   "metadata": {
    "id": "YtSNPV3fDkKk"
   },
   "outputs": [],
   "source": [
    "# Solución ejercicio 6. (NO OLVIDE IMPRIMIR SUS RESPUESTAS)\n",
    "\n",
    "# (a):\n",
    "\n",
    "#Matriz de codificación A:\n",
    "#[[ 0  0  1 -1  0]\n",
    "# [ 0  4 -1  1  2]\n",
    "# [-2  4  1  1  2]\n",
    "# [ 2 -4  0  0 -2]\n",
    "# [ 0  2 -1  1  2]]\n",
    "\n",
    "#Determinante de A: 15.999999999999998\n",
    "\n",
    "#Matriz inversa de A:\n",
    "#[[ 0.5  0.5 -0.   0.5 -0. ]\n",
    "# [ 0.   0.5  0.   0.  -0.5]\n",
    "# [ 0.5  0.   0.5  0.5  0. ]\n",
    "# [-0.5  0.   0.5  0.5  0. ]\n",
    "# [ 0.5 -0.5  0.   0.   1. ]]\n",
    "\n",
    "#Número de columnas necesarias: 12\n",
    "\n",
    "#Matriz C:\n",
    "#[[  -8    4   -9   -1   19   13   11   23    6   13    5   27]\n",
    "# [ 140   68  141   75   85  155   83   -1   84  125   97   69]\n",
    "# [ 124   46  139   51  117  155   83   -1  110  113  115   87]\n",
    "# [-108  -40  -92  -18  -96 -136  -54   34  -76  -94  -92  -58]\n",
    "# [ 102   58  103   43   45   99   57   -3   44   69   63   37]]"
   ]
  },
  {
   "cell_type": "code",
   "execution_count": null,
   "metadata": {
    "id": "jzFnTvsamRxl"
   },
   "outputs": [],
   "source": [
    "# (b):\n",
    "\n",
    "#Matriz codificada B:\n",
    "#[[12. 16. 20. 28.  4. 16. 20. 28.  7. 22.  5. 19.]\n",
    "# [19.  5. 19. 16. 20. 28. 13.  1. 20. 28. 17. 16.]\n",
    "# [ 4.  5. 19. 16. 20. 16. 20. 28. 20. 16. 14. 28.]\n",
    "# [12.  1. 28. 17.  1.  3.  9.  5. 14.  3.  9.  1.]\n",
    "# [28. 26. 28.  5. 12. 28. 21.  9.  5. 13. 17. 16.]]\n",
    "\n",
    "#Matriz B aplanada (en una sola línea):\n",
    "#[12. 16. 20. 28.  4. 16. 20. 28.  7. 22.  5. 19. 19.  5. 19. 16. 20. 28.\n",
    "# 13.  1. 20. 28. 17. 16.  4.  5. 19. 16. 20. 16. 20. 28. 20. 16. 14. 28.\n",
    "# 12.  1. 28. 17.  1.  3.  9.  5. 14.  3.  9.  1. 28. 26. 28.  5. 12. 28.\n",
    "# 21.  9.  5. 13. 17. 16.]\n",
    "\n",
    "#Valores redondeados a enteros:\n",
    "#[12 16 20 28  4 16 20 28  7 22  5 19 19  5 19 16 20 28 13  1 20 28 17 16\n",
    "#  4  5 19 16 20 16 20 28 20 16 14 28 12  1 28 17  1  3  9  5 14  3  9  1\n",
    "# 28 26 28  5 12 28 21  9  5 13 17 16]\n",
    "\n",
    "#Mensaje decodificado:\n",
    "#LOS DOS GUERREROS MAS PODEROSOS SON LA PACIENCIA Y EL TIEMPO\n",
    "\n"
   ]
  }
 ],
 "metadata": {
  "colab": {
   "provenance": []
  },
  "kernelspec": {
   "display_name": "Python 3",
   "name": "python3"
  },
  "language_info": {
   "name": "python"
  }
 },
 "nbformat": 4,
 "nbformat_minor": 0
}
